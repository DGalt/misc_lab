{
 "cells": [
  {
   "cell_type": "markdown",
   "metadata": {},
   "source": [
    "# GABAergic Synaptic Physiology\n",
    "\n",
    "One of the primary focuses for our lab is examining the properties of various connections (called synapses) between populations of cells within the brain. Although we know a great deal about the anatomical connectivity of the brain (i.e. what cell populations send and receive connections from other cell populations), we know far less about the actual functional characteristics of those connections. An understanding of the synaptic physiology at the single cell level, which is where we do most of work, is an important step in understanding how the larger circuits in the brain work as well as how those circuits can be disrupted in various neurological disorders. \n",
    "\n",
    "The work presented below focuses on one synapse between two nuclei - a nucleus in the brainstem refered to as the PPN, and another nucleus (the SNc) composed of the cells that die in Parkinson's disease. In particular, I present work examining the GABAergic input from the PPN to the SNc (GABA is the primary inhibitory signaling molecule in the brain). "
   ]
  },
  {
   "cell_type": "code",
   "execution_count": 3,
   "metadata": {
    "collapsed": false
   },
   "outputs": [],
   "source": [
    "from glob import glob\n",
    "import os\n",
    "import sys\n",
    "import pandas as pd\n",
    "import numpy as np\n",
    "import matplotlib.pyplot as plt\n",
    "import matplotlib.gridspec as gridspec\n",
    "from sklearn.linear_model import LinearRegression\n",
    "from sklearn.metrics import r2_score\n",
    "sys.path.append('../../neurphys/neurphys/')\n",
    "import pv_import as pvi\n",
    "import synaptics as syn\n",
    "import utilities as util\n",
    "\n",
    "%matplotlib inline"
   ]
  },
  {
   "cell_type": "markdown",
   "metadata": {},
   "source": [
    "# GABA IV\n",
    "\n",
    "While we often like to think of neurons as being the biological equivalent to a transistor (and, at least in their output, they do act very much like a logic gate), in truth each neuron is really a small computational unit. It's job is to sum the various signals it receives and to decide whether that information is worth passing along or not. Some of those signals act to push the cell towards passing that information along, while others act to inhibit that transfer. \n",
    "\n",
    "A neuron stores electrical charge by creating a separation of charged particles (primarily K+, Na+, Cl-, Ca2+ ions) across its membrane (i.e. some of those charged particles have a higher concentration inside the cell vs. outside, and vice versa). When a neuron transmits information, it does so by discharging the energy it has stored up through the creation of this charge separation. \n",
    "\n",
    "This is done by the opening of channels (pores, basically little holes) in the membrane, allowing those ions to flow across the membrane (producing a current). The direction of the flow of the different ions is determined 1. by the concentration across the membrane of each specific ion and 2. the total charge separation across the membrane (termed \"membrane potential\", Vm). \n",
    "\n",
    "In any one neuron there are many different types of channels, including ones that are activated by the binding of a neurotransmitter, such as GABA. One property of these channels that we often study is termed the reversal potential (ERev) - i.e. the specific membrane potential at which the flow of ions goes from having an inhibitory effect on the cell to having an excitatory effect on the cell (or vice versa). \n",
    "\n",
    "We determine ERev experimentally by measuring the current flow across the membrane while the cell is held at different membrane potentials. In the experiment presented below SNc neurons are held at different potentials, and then a GABAergic synapse is activated, producing a current. The amplitude of that current is plotted as a function of the membrane potential the cell is held at (creating an current vs. voltage, or I-V, plot). "
   ]
  },
  {
   "cell_type": "code",
   "execution_count": 4,
   "metadata": {
    "collapsed": false
   },
   "outputs": [
    {
     "data": {
      "text/plain": [
       "['./data/GABA_IV/08.14.15_Cell2-IV-001',\n",
       " './data/GABA_IV/08.14.15_Cell3-IV-001',\n",
       " './data/GABA_IV/08.14.15_Cell4-IV-001',\n",
       " './data/GABA_IV/09.15.16_Cell4-IV-001',\n",
       " './data/GABA_IV/09.15.16_Cell5-IV-001',\n",
       " './data/GABA_IV/09.15.16_Cell6-IV-001']"
      ]
     },
     "execution_count": 4,
     "metadata": {},
     "output_type": "execute_result"
    }
   ],
   "source": [
    "folders = glob('./data/GABA_IV/*')\n",
    "folders.sort()\n",
    "folders"
   ]
  },
  {
   "cell_type": "code",
   "execution_count": 5,
   "metadata": {
    "collapsed": false
   },
   "outputs": [],
   "source": [
    "Vms = [-80, -70, -65, -60, -55, -50, -45, -40, -35, -30, -20, -10, 0, 10, 20]\n",
    "# correction for liquid junction potential\n",
    "ljp = 5.9\n",
    "Vms = [Vm - 5.9 for Vm in Vms]\n",
    "iv_df = pd.DataFrame(index=Vms)\n",
    "iv_df.index.names = ['Vms']"
   ]
  },
  {
   "cell_type": "markdown",
   "metadata": {},
   "source": [
    "The analysis itself is fairly straightforward. During each sweep a different voltage step (in the order indicated above) is applied to the cell. At the same time, a single stimulus pulse is applied to the input cells, producing a current in the cell that is being recorded. We simply want the peak of that current. At some point, the current will switch directions, which we can see in a sign change in the current amplitude."
   ]
  },
  {
   "cell_type": "code",
   "execution_count": 6,
   "metadata": {
    "collapsed": false
   },
   "outputs": [],
   "source": [
    "for folder in folders:\n",
    "    df = pvi.import_folder(folder)['voltage recording']\n",
    "    sweeps = df.index.levels[0]\n",
    "    peak_vals = []\n",
    "    for sweep in sweeps:\n",
    "        bsl_data = util.baseline(df.ix[sweep], 5.0, 6.0)\n",
    "        peak_min = util.find_peak(bsl_data, 6.5, 6.6, 'min')['Peak Amp'].values[0]\n",
    "        peak_max = util.find_peak(bsl_data, 6.5, 6.6, 'max')['Peak Amp'].values[0]\n",
    "\n",
    "        if abs(peak_min) > abs(peak_max):\n",
    "            peak_vals.append(peak_min)\n",
    "        else:\n",
    "            peak_vals.append(peak_max)\n",
    "    peak_vals = [peak_val / abs(peak_vals[0]) for peak_val in peak_vals]\n",
    "    cell_id = os.path.split(folder)[-1]\n",
    "    iv_df[cell_id] = peak_vals"
   ]
  },
  {
   "cell_type": "markdown",
   "metadata": {},
   "source": [
    "Because there is a great deal of variabilty across cells in terms of how any one cell responds to the synaptic stimulus (i.e. some cells show a very large response, while others show much smaller responses), we normalize within each cell to the response recorded during the -80 mV (-85.9 mV adjusted) step, allowing us to generate an average IV for all of the recorded cells.  "
   ]
  },
  {
   "cell_type": "code",
   "execution_count": 7,
   "metadata": {
    "collapsed": false,
    "scrolled": true
   },
   "outputs": [
    {
     "data": {
      "text/html": [
       "<div>\n",
       "<table border=\"1\" class=\"dataframe\">\n",
       "  <thead>\n",
       "    <tr style=\"text-align: right;\">\n",
       "      <th></th>\n",
       "      <th>08.14.15_Cell2-IV-001</th>\n",
       "      <th>08.14.15_Cell3-IV-001</th>\n",
       "      <th>08.14.15_Cell4-IV-001</th>\n",
       "      <th>09.15.16_Cell4-IV-001</th>\n",
       "      <th>09.15.16_Cell5-IV-001</th>\n",
       "      <th>09.15.16_Cell6-IV-001</th>\n",
       "    </tr>\n",
       "    <tr>\n",
       "      <th>Vms</th>\n",
       "      <th></th>\n",
       "      <th></th>\n",
       "      <th></th>\n",
       "      <th></th>\n",
       "      <th></th>\n",
       "      <th></th>\n",
       "    </tr>\n",
       "  </thead>\n",
       "  <tbody>\n",
       "    <tr>\n",
       "      <th>-85.9</th>\n",
       "      <td>-1.000000</td>\n",
       "      <td>-1.000000</td>\n",
       "      <td>-1.000000</td>\n",
       "      <td>-1.000000</td>\n",
       "      <td>-1.000000</td>\n",
       "      <td>-1.000000</td>\n",
       "    </tr>\n",
       "    <tr>\n",
       "      <th>-75.9</th>\n",
       "      <td>-0.639470</td>\n",
       "      <td>-0.728361</td>\n",
       "      <td>-0.645795</td>\n",
       "      <td>-0.869976</td>\n",
       "      <td>-1.118004</td>\n",
       "      <td>-0.890914</td>\n",
       "    </tr>\n",
       "    <tr>\n",
       "      <th>-70.9</th>\n",
       "      <td>-0.452830</td>\n",
       "      <td>-0.690992</td>\n",
       "      <td>-0.299001</td>\n",
       "      <td>-0.600938</td>\n",
       "      <td>-0.659577</td>\n",
       "      <td>-0.677553</td>\n",
       "    </tr>\n",
       "    <tr>\n",
       "      <th>-65.9</th>\n",
       "      <td>-0.271643</td>\n",
       "      <td>-0.503107</td>\n",
       "      <td>-0.453542</td>\n",
       "      <td>-0.660236</td>\n",
       "      <td>-0.768676</td>\n",
       "      <td>-0.502738</td>\n",
       "    </tr>\n",
       "    <tr>\n",
       "      <th>-60.9</th>\n",
       "      <td>0.142826</td>\n",
       "      <td>-0.365143</td>\n",
       "      <td>-0.188821</td>\n",
       "      <td>-0.436526</td>\n",
       "      <td>-0.441230</td>\n",
       "      <td>-0.338271</td>\n",
       "    </tr>\n",
       "    <tr>\n",
       "      <th>-55.9</th>\n",
       "      <td>-0.121037</td>\n",
       "      <td>-0.269161</td>\n",
       "      <td>0.148830</td>\n",
       "      <td>-0.317651</td>\n",
       "      <td>-0.247668</td>\n",
       "      <td>-0.219213</td>\n",
       "    </tr>\n",
       "    <tr>\n",
       "      <th>-50.9</th>\n",
       "      <td>0.398809</td>\n",
       "      <td>0.136877</td>\n",
       "      <td>0.180890</td>\n",
       "      <td>-0.187854</td>\n",
       "      <td>-0.230101</td>\n",
       "      <td>0.125085</td>\n",
       "    </tr>\n",
       "    <tr>\n",
       "      <th>-45.9</th>\n",
       "      <td>0.597627</td>\n",
       "      <td>0.359301</td>\n",
       "      <td>0.428078</td>\n",
       "      <td>0.144277</td>\n",
       "      <td>0.168979</td>\n",
       "      <td>0.280801</td>\n",
       "    </tr>\n",
       "    <tr>\n",
       "      <th>-40.9</th>\n",
       "      <td>0.819089</td>\n",
       "      <td>0.523537</td>\n",
       "      <td>0.567024</td>\n",
       "      <td>0.343180</td>\n",
       "      <td>0.413187</td>\n",
       "      <td>0.458799</td>\n",
       "    </tr>\n",
       "    <tr>\n",
       "      <th>-35.9</th>\n",
       "      <td>0.982837</td>\n",
       "      <td>0.599009</td>\n",
       "      <td>0.485910</td>\n",
       "      <td>0.417073</td>\n",
       "      <td>0.591166</td>\n",
       "      <td>0.547572</td>\n",
       "    </tr>\n",
       "    <tr>\n",
       "      <th>-25.9</th>\n",
       "      <td>1.529965</td>\n",
       "      <td>0.930385</td>\n",
       "      <td>0.656935</td>\n",
       "      <td>0.368742</td>\n",
       "      <td>0.596314</td>\n",
       "      <td>0.665801</td>\n",
       "    </tr>\n",
       "    <tr>\n",
       "      <th>-15.9</th>\n",
       "      <td>1.734484</td>\n",
       "      <td>1.026263</td>\n",
       "      <td>0.451376</td>\n",
       "      <td>0.307320</td>\n",
       "      <td>0.647863</td>\n",
       "      <td>0.773737</td>\n",
       "    </tr>\n",
       "    <tr>\n",
       "      <th>-5.9</th>\n",
       "      <td>2.146082</td>\n",
       "      <td>1.547404</td>\n",
       "      <td>1.020105</td>\n",
       "      <td>0.303151</td>\n",
       "      <td>1.063011</td>\n",
       "      <td>0.894842</td>\n",
       "    </tr>\n",
       "    <tr>\n",
       "      <th>4.1</th>\n",
       "      <td>2.383591</td>\n",
       "      <td>2.235195</td>\n",
       "      <td>1.399547</td>\n",
       "      <td>0.566763</td>\n",
       "      <td>0.942800</td>\n",
       "      <td>1.330634</td>\n",
       "    </tr>\n",
       "    <tr>\n",
       "      <th>14.1</th>\n",
       "      <td>2.779750</td>\n",
       "      <td>2.526998</td>\n",
       "      <td>1.651244</td>\n",
       "      <td>1.293297</td>\n",
       "      <td>1.668267</td>\n",
       "      <td>1.326032</td>\n",
       "    </tr>\n",
       "  </tbody>\n",
       "</table>\n",
       "</div>"
      ],
      "text/plain": [
       "       08.14.15_Cell2-IV-001  08.14.15_Cell3-IV-001  08.14.15_Cell4-IV-001  \\\n",
       "Vms                                                                          \n",
       "-85.9              -1.000000              -1.000000              -1.000000   \n",
       "-75.9              -0.639470              -0.728361              -0.645795   \n",
       "-70.9              -0.452830              -0.690992              -0.299001   \n",
       "-65.9              -0.271643              -0.503107              -0.453542   \n",
       "-60.9               0.142826              -0.365143              -0.188821   \n",
       "-55.9              -0.121037              -0.269161               0.148830   \n",
       "-50.9               0.398809               0.136877               0.180890   \n",
       "-45.9               0.597627               0.359301               0.428078   \n",
       "-40.9               0.819089               0.523537               0.567024   \n",
       "-35.9               0.982837               0.599009               0.485910   \n",
       "-25.9               1.529965               0.930385               0.656935   \n",
       "-15.9               1.734484               1.026263               0.451376   \n",
       "-5.9                2.146082               1.547404               1.020105   \n",
       " 4.1                2.383591               2.235195               1.399547   \n",
       " 14.1               2.779750               2.526998               1.651244   \n",
       "\n",
       "       09.15.16_Cell4-IV-001  09.15.16_Cell5-IV-001  09.15.16_Cell6-IV-001  \n",
       "Vms                                                                         \n",
       "-85.9              -1.000000              -1.000000              -1.000000  \n",
       "-75.9              -0.869976              -1.118004              -0.890914  \n",
       "-70.9              -0.600938              -0.659577              -0.677553  \n",
       "-65.9              -0.660236              -0.768676              -0.502738  \n",
       "-60.9              -0.436526              -0.441230              -0.338271  \n",
       "-55.9              -0.317651              -0.247668              -0.219213  \n",
       "-50.9              -0.187854              -0.230101               0.125085  \n",
       "-45.9               0.144277               0.168979               0.280801  \n",
       "-40.9               0.343180               0.413187               0.458799  \n",
       "-35.9               0.417073               0.591166               0.547572  \n",
       "-25.9               0.368742               0.596314               0.665801  \n",
       "-15.9               0.307320               0.647863               0.773737  \n",
       "-5.9                0.303151               1.063011               0.894842  \n",
       " 4.1                0.566763               0.942800               1.330634  \n",
       " 14.1               1.293297               1.668267               1.326032  "
      ]
     },
     "execution_count": 7,
     "metadata": {},
     "output_type": "execute_result"
    }
   ],
   "source": [
    "iv_df"
   ]
  },
  {
   "cell_type": "code",
   "execution_count": 8,
   "metadata": {
    "collapsed": false,
    "scrolled": true
   },
   "outputs": [],
   "source": [
    "avg_iv = iv_df.mean(axis=1)\n",
    "iv_sem = iv_df.std(axis=1) / 6\n",
    "\n",
    "model = LinearRegression()\n",
    "model.fit(X=np.array(Vms).reshape(15,1), y=avg_iv.values)\n",
    "preds = model.predict(np.array(Vms).reshape(15,1))"
   ]
  },
  {
   "cell_type": "markdown",
   "metadata": {},
   "source": [
    "The current flow through a channel can be modeled as a linear relationship, as described by Ohm's law (V = IR). Simply put, the voltage across the membrane is proportional to the current flowing through a resistor (i.e. the channel). In our case, we are holding the membrane potential at a constant value, and examing the size of the current as a function of that voltage (i.e. I = V / R, where R is essentially constant). "
   ]
  },
  {
   "cell_type": "code",
   "execution_count": 9,
   "metadata": {
    "collapsed": false,
    "scrolled": false
   },
   "outputs": [
    {
     "data": {
      "image/png": "[encoded data removed]",
      "text/plain": [
       "<matplotlib.figure.Figure at 0x7ff5708a7c18>"
      ]
     },
     "metadata": {},
     "output_type": "display_data"
    }
   ],
   "source": [
    "fig = plt.figure(figsize = (15,6))\n",
    "gs = gridspec.GridSpec(1, 2, width_ratios=[1, 1.25], wspace=0.05)\n",
    "\n",
    "########################################################\n",
    "# Plot example traces\n",
    "########################################################\n",
    "ax1 = plt.subplot(gs[0])\n",
    "df = pvi.import_folder(folders[1])['voltage recording']\n",
    "sweep_list = ['Sweep0001', 'Sweep0006', 'Sweep0007', 'Sweep0009', 'Sweep0015']\n",
    "for sweep in sweep_list:\n",
    "    bsl_data = util.baseline(df.ix[sweep], 6.2, 6.45)\n",
    "    sub_data = bsl_data[(bsl_data.Time >= 6.45) & (bsl_data.Time <= 6.65)]\n",
    "    ax1.plot(sub_data.Time, sub_data.Primary, 'k', linewidth=0.5)\n",
    "\n",
    "# cleanig up fig, add labels \n",
    "for spine in ax1.spines.values():\n",
    "    spine.set_visible(False)\n",
    "ax1.get_xaxis().set_visible(False)\n",
    "ax1.get_yaxis().set_visible(False)\n",
    "ax1.plot([6.55, 6.575], [300, 300], 'k')\n",
    "ax1.plot([6.55, 6.55], [300, 500], 'k')\n",
    "ax1.text(6.554, 240, '25 ms')\n",
    "ax1.text(6.53, 380, '200 pA')\n",
    "ax1.text(6.48, 900, '+20 mV')\n",
    "ax1.text(6.48, 145, '-30 mV')\n",
    "ax1.text(6.48, 33, '-40 mV')\n",
    "ax1.text(6.48, -100, '-50 mV')\n",
    "ax1.text(6.48, -350, '-80 mV')\n",
    "ax1.set_ylim(-600, 1000)\n",
    "\n",
    "########################################################\n",
    "# Plot IV\n",
    "########################################################\n",
    "ax2 = plt.subplot(gs[1])\n",
    "ax2.plot(Vms, avg_iv, 'ko')\n",
    "ax2.errorbar(Vms, avg_iv, yerr=iv_sem.values, \n",
    "            linestyle=\"None\", ecolor='k')\n",
    "ax2.plot(Vms, preds, 'k')\n",
    "# hide top and right axes\n",
    "ax2.spines['top'].set_visible(False)\n",
    "ax2.spines['right'].set_visible(False)\n",
    "plt.tick_params(which='both', top='off', right='off')\n",
    "\n",
    "# x-axis formatting\n",
    "ax2.spines['left'].set_position('zero')\n",
    "ax2.spines['left'].set_linewidth(0.75)\n",
    "ax2.set_xticks([-100, -50, 30])\n",
    "ax2.get_xaxis().set_tick_params(which=\"both\", direction=\"out\", \n",
    "                               width=1.2)\n",
    "ax2.set_xticks(range(-100,30,10), minor=True)\n",
    "ax2.set_xlabel('mV', fontsize=15)\n",
    "ax2.xaxis.set_label_coords(1, 0.5)\n",
    "ax2.set_xlim(-100, 30)\n",
    "\n",
    "# y-axis formatting\n",
    "ax2.spines['bottom'].set_position('zero')\n",
    "ax2.spines['bottom'].set_linewidth(0.75)\n",
    "ax2.set_yticks([-2, -1, 1, 2])\n",
    "ax2.set_yticks([x*0.5 for x in range(-3, 4)], \n",
    "              minor=True)\n",
    "ax2.get_yaxis().set_tick_params(which=\"both\", direction=\"out\", \n",
    "                               width=1.2)\n",
    "ax2.set_ylabel('I$_\\mathrm{Norm}$', \n",
    "              fontsize=15, rotation=0)\n",
    "ax2.yaxis.set_label_coords(0.8 ,1)\n",
    "ax2.set_ylim(-1.5, 2.5)\n",
    "\n",
    "plt.show()"
   ]
  },
  {
   "cell_type": "markdown",
   "metadata": {},
   "source": [
    "**(Left)** Example GABA currents recorded at different membrane potentials. Notice that in this cell the current reverses somewhere between -50 mV and -40 mV (-55.9 mV and -45.9 mV adjusted). \n",
    "\n",
    "**(Right)** IV plot of average normalized current amplitudes (+/- SEM) from 6 cells, fitted with a simple linear regression. "
   ]
  },
  {
   "cell_type": "code",
   "execution_count": 10,
   "metadata": {
    "collapsed": false
   },
   "outputs": [
    {
     "name": "stdout",
     "output_type": "stream",
     "text": [
      "ERev: -51.44 mV, R2: 0.9800\n"
     ]
    }
   ],
   "source": [
    "x_intercept = model.intercept_ / model.coef_ * -1\n",
    "r2 = r2_score(avg_iv.values, preds)\n",
    "print(\"ERev: {:0.2f} mV, R2: {:0.4f}\".format(x_intercept[0], r2))"
   ]
  },
  {
   "cell_type": "markdown",
   "metadata": {},
   "source": [
    "Based one the straight-line equation for the fitted linear regression, ERev for this channel is calculated as -51.44 mV. GABA receptors primarily conduct the ion chloride (Cl-) to produce a current. From the published literature we know that ERev for chloride in these cells is approximated -56 mV, which is very close to our calculated ERev for the channels studied in this experiment. \n",
    "\n",
    "With regards to the bigger picture, knowing ERev for a particular channel let's us predict how activating that channel will affect the overall activity of the cell. For these particular receptors, we now know that at membrane potentials above approximately -50mV, GABA will inhibit activity in these cells, but at more negative potentials it may actually act to excite them. "
   ]
  },
  {
   "cell_type": "markdown",
   "metadata": {
    "collapsed": false
   },
   "source": [
    "# GABA Receptor Pharmacology\n",
    "\n",
    "Membrane channels are large complexes of proteins. The structure of those protein complexes are what give the channel its properties (such as what type of ion(s) it can conduct, or if it is a ligand-gated channel like GABA receptors, what kind of molecules can bind to and activate the channel). \n",
    "\n",
    "GABA receptors are pentameric structures - meaning that they are composed of five subunits. Within the brain there are a variety of GABA subunits expressed by cells. Depending on which subunits are expressed by a cell, and how those subunits form together to make a particular GABA receptor (i.e. in what ratio the different subunits exist within the receptor), the receptor will have different properties.   \n",
    "\n",
    "As part of our goal to understand how synaptic activity affects a cell's function, we want to know what particular subunits are expressed at different synapses. One way to achieve this is to use pharmacological agents that are selective for specific subunits. For example, benzodiazepines (e.g. Valium, Zolpidem, etc.) act by increasing GABA activity in the brain. For a particular GABA receptor to be affected by a benzo, however, it must express a certain combination of subunits.\n",
    "\n",
    "In the presented experiment below we test two drugs - Zolipdem and DS2 - that are selective for different receptor subunits. Our output measures are current amplitude as well as the decay time constant (tau) for the measured current. "
   ]
  },
  {
   "cell_type": "code",
   "execution_count": 11,
   "metadata": {
    "collapsed": false
   },
   "outputs": [
    {
     "data": {
      "text/plain": [
       "['./data/GABA_pharm/09.23.15_Cell2-Control-001',\n",
       " './data/GABA_pharm/09.23.15_Cell2-GBZ-001',\n",
       " './data/GABA_pharm/09.23.15_Cell2-Wash-on-001']"
      ]
     },
     "execution_count": 11,
     "metadata": {},
     "output_type": "execute_result"
    }
   ],
   "source": [
    "folders = glob('./data/GABA_pharm/09.23*')\n",
    "folders"
   ]
  },
  {
   "cell_type": "markdown",
   "metadata": {},
   "source": [
    "These experiments all follow a similar pattern: \n",
    "1. Take a series of recording that serve as a control\n",
    "2. Apply the drug\n",
    "3. Take a series of recordings with drug applied (wash-on)\n",
    "4. To validate that we are indeed looking at a GABA current, we wash on a GABA antagonist (Gabazine, GBZ)\n",
    "\n",
    "The current is evoked in the same way as described above for the IV experiment (i.e. a single stimulus pulse)\n",
    "\n",
    "A subsection of sweeps are taken, since the drug applications occurs while the recording is taking place. \n",
    "The bulk the the analysis work is done by the analyze_current function in the synaptics module put together as part of our lab's suit of analysis tools. "
   ]
  },
  {
   "cell_type": "code",
   "execution_count": 12,
   "metadata": {
    "collapsed": false
   },
   "outputs": [],
   "source": [
    "##################################\n",
    "# Zolpidem\n",
    "##################################\n",
    "zol_ctrl = pvi.import_folder(folders[0])['voltage recording']\n",
    "zol_wash = pvi.import_folder(folders[-1])['voltage recording'].ix['Sweep0010': 'Sweep0014']\n",
    "zol_gbz = pvi.import_folder(folders[1])['voltage recording'].ix['Sweep0003': 'Sweep0008']\n",
    "\n",
    "zol_dfs = [zol_ctrl, zol_wash, zol_gbz]\n",
    "zol_dfs = [df.groupby(level='Sweep').apply(util.baseline, 2.4, 2.9)\n",
    "           for df in zol_dfs]\n",
    "zol_avg_dfs = [df.groupby(level=\"Index\").mean()\n",
    "               for df in zol_dfs]\n",
    "\n",
    "(zol_ctrl_peak, zol_ctrl_tau), (zol_wash_peak, zol_wash_tau) = [syn.analyze_current(df, 2.4, 2.9, \n",
    "                                                                                    3.0, 3.5, \"max\", \n",
    "                                                                                    calc_tau=True) \n",
    "                                                                for df in zol_avg_dfs[:2]]"
   ]
  },
  {
   "cell_type": "code",
   "execution_count": 13,
   "metadata": {
    "collapsed": false
   },
   "outputs": [
    {
     "data": {
      "text/plain": [
       "['./data/GABA_pharm/09.02.15_Cell3-control-001',\n",
       " './data/GABA_pharm/09.02.15_Cell3-GBZ-001',\n",
       " './data/GABA_pharm/09.02.15_Cell3-wash-on-001']"
      ]
     },
     "execution_count": 13,
     "metadata": {},
     "output_type": "execute_result"
    }
   ],
   "source": [
    "folders = glob('./data/GABA_pharm/09.02*')\n",
    "folders"
   ]
  },
  {
   "cell_type": "code",
   "execution_count": 14,
   "metadata": {
    "collapsed": false
   },
   "outputs": [],
   "source": [
    "##################################\n",
    "# DS2\n",
    "##################################\n",
    "ds2_ctrl = pvi.import_folder(folders[0])['voltage recording'].ix['Sweep0001':'Sweep0004']\n",
    "ds2_wash = pvi.import_folder(folders[-1])['voltage recording'].ix['Sweep0003':'Sweep0005']\n",
    "ds2_gbz = pvi.import_folder(folders[1])['voltage recording'].ix['Sweep0003': 'Sweep0005']\n",
    "\n",
    "ds2_dfs = [ds2_ctrl, ds2_wash, ds2_gbz]\n",
    "ds2_dfs = [df.groupby(level='Sweep').apply(util.baseline, 5.0, 6.4)\n",
    "           for df in ds2_dfs]\n",
    "ds2_avg_dfs = [df.groupby(level=\"Index\").mean()\n",
    "               for df in ds2_dfs]\n",
    "\n",
    "(ds2_ctrl_peak, ds2_ctrl_tau), (ds2_wash_peak, ds2_wash_tau) = [syn.analyze_current(df, 5.0, 6.5, \n",
    "                                                                                    6.5, 7.0, \n",
    "                                                                                    \"max\", calc_tau=True) \n",
    "                                                                for df in ds2_avg_dfs[:2]]"
   ]
  },
  {
   "cell_type": "code",
   "execution_count": 15,
   "metadata": {
    "collapsed": false
   },
   "outputs": [
    {
     "data": {
      "image/png": "[encoded data removed]",
      "text/plain": [
       "<matplotlib.figure.Figure at 0x7ff56eef3128>"
      ]
     },
     "metadata": {},
     "output_type": "display_data"
    }
   ],
   "source": [
    "fig = plt.figure(figsize = (15,6))\n",
    "gs = gridspec.GridSpec(1, 2, wspace=0.05)\n",
    "colors = ['k', 'r', 'b']\n",
    "##################################\n",
    "# Zolpidem example trace plot\n",
    "##################################\n",
    "ax1 = plt.subplot(gs[0])\n",
    "x = [3.17, 3.2]\n",
    "y = [300, 300]\n",
    "x_text = 3.205\n",
    "y_text = 295\n",
    "labels = ['Control', '+ Zolpidem', '+ Gabazine']\n",
    "for color, label, df in zip(colors,labels, zol_avg_dfs):\n",
    "    sub_df = df[(df.Time >= 2.95) & (df.Time <= 3.3)]\n",
    "    ax1.plot(sub_df.Time, sub_df.Primary, color)\n",
    "    ax1.plot(x, y, color, linewidth=1.5)\n",
    "    ax1.text(x_text, y_text, label)\n",
    "    y = [y[0] - 30, y[1] - 30]\n",
    "    y_text -= 30\n",
    "\n",
    "for spine in ax1.spines.values():\n",
    "    spine.set_visible(False)\n",
    "ax1.get_xaxis().set_visible(False)\n",
    "ax1.get_yaxis().set_visible(False)\n",
    "ax1.plot([2.965, 2.990], [40, 40], 'k')\n",
    "ax1.plot([2.965, 2.965], [40, 90], 'k')\n",
    "ax1.text(2.964, 25, '25 ms')\n",
    "ax1.text(2.938, 60, '50 pA')\n",
    "ax1.text(3.06, 100, r'$\\tau$ = {:0.2f} ms'.format(zol_wash_tau), color='r')\n",
    "ax1.annotate(r'$\\tau$ = {:0.2f} ms'.format(zol_ctrl_tau), xy=(3.032, 55),\n",
    "                xytext=(3.1,50),\n",
    "                arrowprops=dict(arrowstyle=\"-|>, head_width=0.25, head_length=0.5\", \n",
    "                                linestyle='dashed', lw=2, color='gray'))\n",
    "##################################\n",
    "# DS2 example trace plot\n",
    "##################################\n",
    "ax2 = plt.subplot(gs[1])\n",
    "x = [6.67, 6.7]\n",
    "y = [300, 300]\n",
    "x_text = 6.705\n",
    "y_text = 295\n",
    "labels = ['Control', '+ DS2', '+ Gabazine']\n",
    "for color, label, df in zip(colors, labels, ds2_avg_dfs):\n",
    "    sub_df = df[(df.Time >= 6.45) & (df.Time <= 6.8)]\n",
    "    ax2.plot(sub_df.Time, sub_df.Primary, color)\n",
    "    ax2.plot(x, y, color, linewidth=1.5)\n",
    "    ax2.text(x_text, y_text, label)\n",
    "    y = [y[0] - 30, y[1] - 30]\n",
    "    y_text -= 30\n",
    "\n",
    "for spine in ax2.spines.values():\n",
    "    spine.set_visible(False)\n",
    "ax2.get_xaxis().set_visible(False)\n",
    "ax2.get_yaxis().set_visible(False)\n",
    "ax2.plot([6.463, 6.488], [50, 50], 'k')\n",
    "ax2.plot([6.463, 6.463], [50, 100], 'k')\n",
    "ax2.text(6.462, 35, '25 ms')\n",
    "ax2.text(6.435, 70, '50 pA')\n",
    "ax2.text(6.55, 100, r'$\\tau$ = {:0.2f} ms'.format(ds2_wash_tau), color='r')\n",
    "ax2.annotate(r'$\\tau$ = {:0.2f} ms'.format(ds2_ctrl_tau), xy=(6.557, 55),\n",
    "                xytext=(6.59,50),\n",
    "                arrowprops=dict(arrowstyle=\"-|>, head_width=0.25, head_length=0.5\", \n",
    "                                linestyle='dashed', lw=2, color='gray'))    \n",
    "plt.show()"
   ]
  },
  {
   "cell_type": "markdown",
   "metadata": {},
   "source": [
    "**(Left)** Example average traces before (black) and after (red) zolipidem application. Notice the substantial increase in decay time as. Application of gabazine (blue) abolishes the current, confirming this is a GABA current.\n",
    "\n",
    "**(Right)** Example average traces before and after DS2 treatment. Here there is essentially no effect on either current peak or decay. Again, gabazine abolishes the current. "
   ]
  },
  {
   "cell_type": "code",
   "execution_count": 21,
   "metadata": {
    "collapsed": false
   },
   "outputs": [
    {
     "name": "stdout",
     "output_type": "stream",
     "text": [
      "Zolpidem (% Change) - Tau: 153.45%, Amplitude: 12.81%\n",
      "DS2 (% Change) - Tau: 13.04%, Amplitude: 8.96%\n"
     ]
    }
   ],
   "source": [
    "zol_peak_change = (zol_wash_peak['Peak Amp'].values[0] - \n",
    "                   zol_ctrl_peak['Peak Amp'].values[0]) / zol_ctrl_peak['Peak Amp'].values[0] * 100\n",
    "zol_tau_change = (zol_wash_tau - zol_ctrl_tau) / zol_ctrl_tau * 100\n",
    "\n",
    "ds2_peak_change = (ds2_wash_peak['Peak Amp'].values[0] - \n",
    "                   ds2_ctrl_peak['Peak Amp'].values[0]) / ds2_ctrl_peak['Peak Amp'].values[0] * 100\n",
    "ds2_tau_change = (ds2_wash_tau - ds2_ctrl_tau) / ds2_ctrl_tau * 100\n",
    "\n",
    "print(\"Zolpidem (% Change) - Tau: {:0.2f}%, Amplitude: {:0.2f}%\".format(zol_tau_change, zol_peak_change))\n",
    "print(\"DS2 (% Change) - Tau: {:0.2f}%, Amplitude: {:0.2f}%\".format(ds2_tau_change, ds2_peak_change))"
   ]
  },
  {
   "cell_type": "markdown",
   "metadata": {
    "collapsed": false
   },
   "source": [
    "### Summary\n",
    "\n",
    "The zolipdem result is in line with the known mechanism of benzopiazepines, which increase GABAergic activity in the brain by increasing channel open time (i.e. increasing decay time). This implies that the GABA receptors at this particular synapse have the necessary subunits to bind and be affected by benzodiazepines. \n",
    "\n",
    "In contrast, the lack of an effect from DS2 application indicates that these receptors lack the particular subunit neccessary for DS2 to bind and have an effect.\n",
    "\n",
    "Overall this gives us some insight into the composition of the GABA receptors at this synapse, which helps us understand how and why activation of this synapses will affect the overall activity of these cells. "
   ]
  },
  {
   "cell_type": "code",
   "execution_count": null,
   "metadata": {
    "collapsed": true
   },
   "outputs": [],
   "source": []
  }
 ],
 "metadata": {
  "kernelspec": {
   "display_name": "Python 3",
   "language": "python",
   "name": "python3"
  },
  "language_info": {
   "codemirror_mode": {
    "name": "ipython",
    "version": 3
   },
   "file_extension": ".py",
   "mimetype": "text/x-python",
   "name": "python",
   "nbconvert_exporter": "python",
   "pygments_lexer": "ipython3",
   "version": "3.5.1"
  }
 },
 "nbformat": 4,
 "nbformat_minor": 0
}
